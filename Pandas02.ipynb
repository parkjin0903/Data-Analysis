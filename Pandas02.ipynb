{
 "cells": [
  {
   "cell_type": "markdown",
   "metadata": {},
   "source": [
    "# 시리즈 만들기"
   ]
  },
  {
   "cell_type": "code",
   "execution_count": 3,
   "metadata": {},
   "outputs": [
    {
     "name": "stdout",
     "output_type": "stream",
     "text": [
      "0    banana\n",
      "1        42\n",
      "dtype: object\n",
      "Person          Park\n",
      "Who       Programmer\n",
      "dtype: object\n"
     ]
    }
   ],
   "source": [
    "import pandas as pd\n",
    "s = pd.Series(['banana', 42])\n",
    "print(s)\n",
    "\n",
    "s = pd.Series(['Park', 'Programmer'], index=['Person', 'Who'])\n",
    "print(s)"
   ]
  },
  {
   "cell_type": "markdown",
   "metadata": {},
   "source": [
    "# 데이터프레임 만들기"
   ]
  },
  {
   "cell_type": "code",
   "execution_count": 4,
   "metadata": {},
   "outputs": [
    {
     "name": "stdout",
     "output_type": "stream",
     "text": [
      "   Name Price\n",
      "0  meat   $10\n",
      "1  coke    $5\n",
      "     Price  Name\n",
      "park    10  meat\n",
      "jin      5  coke\n",
      "   name   birthday\n",
      "0  Park  september\n",
      "1   Jin      march\n"
     ]
    }
   ],
   "source": [
    "Food = pd.DataFrame({\n",
    "    'Name' : ['meat', 'coke'],\n",
    "    'Price' : ['$10', '$5']\n",
    "})\n",
    "print(Food)\n",
    "\n",
    "Food = pd.DataFrame(\n",
    "    \n",
    "    data= {'Name' : ['meat', 'coke'],\n",
    "    'Price' : ['10', '5']},\n",
    "    index = ['park', 'jin'],\n",
    "    columns = ['Price', 'Name']\n",
    "    \n",
    ")\n",
    "print(Food)\n",
    "\n",
    "from collections import OrderedDict # 순서가 보장되는 딕셔너리\n",
    "\n",
    "Person = pd.DataFrame(OrderedDict([\n",
    "    ('name', ['Park', 'Jin']),\n",
    "    ('birthday', ['september', 'march'])\n",
    "]))\n",
    "\n",
    "print(Person)"
   ]
  },
  {
   "cell_type": "markdown",
   "metadata": {},
   "source": [
    "# 데이터프레임에서 시리즈 선택하기"
   ]
  },
  {
   "cell_type": "code",
   "execution_count": 5,
   "metadata": {},
   "outputs": [
    {
     "name": "stdout",
     "output_type": "stream",
     "text": [
      "Price      10\n",
      "Name     meat\n",
      "Name: park, dtype: object\n"
     ]
    }
   ],
   "source": [
    "first_row = Food.loc['park']\n",
    "print(first_row)"
   ]
  },
  {
   "cell_type": "markdown",
   "metadata": {},
   "source": [
    "# index, values, keys 사용하기"
   ]
  },
  {
   "cell_type": "code",
   "execution_count": 6,
   "metadata": {},
   "outputs": [
    {
     "name": "stdout",
     "output_type": "stream",
     "text": [
      "Index(['Price', 'Name'], dtype='object')\n",
      "['10' 'meat']\n",
      "Index(['Price', 'Name'], dtype='object')\n"
     ]
    }
   ],
   "source": [
    "print(first_row.index) # .index[0] 으로 응용\n",
    "\n",
    "print(first_row.values)\n",
    "\n",
    "print(first_row.keys()) # index와 같은 속성이지만 메서드"
   ]
  },
  {
   "cell_type": "markdown",
   "metadata": {},
   "source": [
    "# 시리즈의 mean, min, max, std 메서드 사용하기"
   ]
  },
  {
   "cell_type": "code",
   "execution_count": 7,
   "metadata": {},
   "outputs": [
    {
     "name": "stdout",
     "output_type": "stream",
     "text": [
      "park    10\n",
      "jin      5\n",
      "Name: Price, dtype: object\n",
      "52.5\n",
      "10\n",
      "5\n"
     ]
    }
   ],
   "source": [
    "prices = Food['Price']\n",
    "print(prices)\n",
    "\n",
    "print(prices.mean())\n",
    "\n",
    "print(prices.min())\n",
    "\n",
    "print(prices.max())\n"
   ]
  },
  {
   "cell_type": "markdown",
   "metadata": {},
   "source": [
    "# 시리즈와 불린 추출 사용하기"
   ]
  },
  {
   "cell_type": "code",
   "execution_count": 8,
   "metadata": {},
   "outputs": [
    {
     "name": "stdout",
     "output_type": "stream",
     "text": [
      "                   Name        Born        Died  Age          Occupation\n",
      "0     Rosaline Franklin  1920-07-25  1958-04-16   37             Chemist\n",
      "1        William Gosset  1876-06-13  1937-10-16   61        Statistician\n",
      "2  Florence Nightingale  1820-05-12  1910-08-13   90               Nurse\n",
      "3           Marie Curie  1867-11-07  1934-07-04   66             Chemist\n",
      "4         Rachel Carson  1907-05-27  1964-04-14   56           Biologist\n",
      "5             John Snow  1813-03-15  1858-06-16   45           Physician\n",
      "6           Alan Turing  1912-06-23  1954-06-07   41  Computer Scientist\n",
      "7          Johann Gauss  1777-04-30  1855-02-23   77       Mathematician\n",
      "59.125\n",
      "1    61\n",
      "2    90\n",
      "3    66\n",
      "7    77\n",
      "Name: Age, dtype: int64\n",
      "0    37\n",
      "1    61\n",
      "4    56\n",
      "5    45\n",
      "7    77\n",
      "Name: Age, dtype: int64\n"
     ]
    }
   ],
   "source": [
    "scientists = pd.read_csv('../data/scientists.csv')\n",
    "\n",
    "print(scientists)\n",
    "\n",
    "ages = scientists['Age']\n",
    "\n",
    "print(ages.mean())\n",
    "\n",
    "print(ages[ages > ages.mean()])\n",
    "\n",
    "manual_bool_values = [True, True, False, False, True, True, False, True]\n",
    "print(ages[manual_bool_values])"
   ]
  },
  {
   "cell_type": "markdown",
   "metadata": {},
   "source": [
    "# 시리즈와 브로드캐스팅"
   ]
  },
  {
   "cell_type": "code",
   "execution_count": 9,
   "metadata": {},
   "outputs": [
    {
     "name": "stdout",
     "output_type": "stream",
     "text": [
      "0    101\n",
      "1    200\n",
      "dtype: int64\n",
      "7    77\n",
      "6    41\n",
      "5    45\n",
      "4    56\n",
      "3    66\n",
      "2    90\n",
      "1    61\n",
      "0    37\n",
      "Name: Age, dtype: int64\n"
     ]
    }
   ],
   "source": [
    "print(100 + pd.Series([1, 100]))\n",
    "\n",
    "rev_ages = ages.sort_index(ascending=False) # index 역순\n",
    "print(rev_ages)"
   ]
  },
  {
   "cell_type": "markdown",
   "metadata": {},
   "source": [
    "# 데이터프레임과 불린 추출"
   ]
  },
  {
   "cell_type": "code",
   "execution_count": 10,
   "metadata": {},
   "outputs": [
    {
     "name": "stdout",
     "output_type": "stream",
     "text": [
      "                   Name        Born        Died  Age     Occupation\n",
      "1        William Gosset  1876-06-13  1937-10-16   61   Statistician\n",
      "2  Florence Nightingale  1820-05-12  1910-08-13   90          Nurse\n",
      "3           Marie Curie  1867-11-07  1934-07-04   66        Chemist\n",
      "7          Johann Gauss  1777-04-30  1855-02-23   77  Mathematician\n",
      "                Name        Born        Died  Age     Occupation\n",
      "0  Rosaline Franklin  1920-07-25  1958-04-16   37        Chemist\n",
      "1     William Gosset  1876-06-13  1937-10-16   61   Statistician\n",
      "3        Marie Curie  1867-11-07  1934-07-04   66        Chemist\n",
      "4      Rachel Carson  1907-05-27  1964-04-14   56      Biologist\n",
      "5          John Snow  1813-03-15  1858-06-16   45      Physician\n",
      "7       Johann Gauss  1777-04-30  1855-02-23   77  Mathematician\n"
     ]
    }
   ],
   "source": [
    "print(scientists[scientists['Age'] > scientists['Age'].mean()])\n",
    "\n",
    "print(scientists.loc[[True, True, False, True, True, True, False, True]])"
   ]
  },
  {
   "cell_type": "markdown",
   "metadata": {},
   "source": [
    "# 데이터프레임과 브로드캐스팅"
   ]
  },
  {
   "cell_type": "code",
   "execution_count": 11,
   "metadata": {},
   "outputs": [
    {
     "name": "stdout",
     "output_type": "stream",
     "text": [
      "                                       Name                  Born  \\\n",
      "0        Rosaline FranklinRosaline Franklin  1920-07-251920-07-25   \n",
      "1              William GossetWilliam Gosset  1876-06-131876-06-13   \n",
      "2  Florence NightingaleFlorence Nightingale  1820-05-121820-05-12   \n",
      "3                    Marie CurieMarie Curie  1867-11-071867-11-07   \n",
      "4                Rachel CarsonRachel Carson  1907-05-271907-05-27   \n",
      "5                        John SnowJohn Snow  1813-03-151813-03-15   \n",
      "6                    Alan TuringAlan Turing  1912-06-231912-06-23   \n",
      "7                  Johann GaussJohann Gauss  1777-04-301777-04-30   \n",
      "\n",
      "                   Died  Age                            Occupation  \n",
      "0  1958-04-161958-04-16   74                        ChemistChemist  \n",
      "1  1937-10-161937-10-16  122              StatisticianStatistician  \n",
      "2  1910-08-131910-08-13  180                            NurseNurse  \n",
      "3  1934-07-041934-07-04  132                        ChemistChemist  \n",
      "4  1964-04-141964-04-14  112                    BiologistBiologist  \n",
      "5  1858-06-161858-06-16   90                    PhysicianPhysician  \n",
      "6  1954-06-071954-06-07   82  Computer ScientistComputer Scientist  \n",
      "7  1855-02-231855-02-23  154            MathematicianMathematician  \n"
     ]
    }
   ],
   "source": [
    "print(2 * scientists) # 숫자는 2배, 문자열은 2번"
   ]
  },
  {
   "cell_type": "markdown",
   "metadata": {},
   "source": [
    "# 열의 자료형 바꾸기와 새로운 열 추가하기"
   ]
  },
  {
   "cell_type": "code",
   "execution_count": 12,
   "metadata": {},
   "outputs": [
    {
     "name": "stdout",
     "output_type": "stream",
     "text": [
      "object\n",
      "0   1920-07-25\n",
      "1   1876-06-13\n",
      "2   1820-05-12\n",
      "3   1867-11-07\n",
      "4   1907-05-27\n",
      "5   1813-03-15\n",
      "6   1912-06-23\n",
      "7   1777-04-30\n",
      "Name: Born, dtype: datetime64[ns]\n",
      "                   Name        Born        Died  Age    Occupation    born_dt\n",
      "0     Rosaline Franklin  1920-07-25  1958-04-16   37       Chemist 1920-07-25\n",
      "1        William Gosset  1876-06-13  1937-10-16   61  Statistician 1876-06-13\n",
      "2  Florence Nightingale  1820-05-12  1910-08-13   90         Nurse 1820-05-12\n",
      "3           Marie Curie  1867-11-07  1934-07-04   66       Chemist 1867-11-07\n",
      "4         Rachel Carson  1907-05-27  1964-04-14   56     Biologist 1907-05-27\n"
     ]
    }
   ],
   "source": [
    "print(scientists['Born'].dtype)\n",
    "\n",
    "born_datetime = pd.to_datetime(scientists['Born'], format ='%Y-%m-%d')\n",
    "print(born_datetime)\n",
    "\n",
    "scientists['born_dt'] = born_datetime\n",
    "print(scientists.head())"
   ]
  },
  {
   "cell_type": "markdown",
   "metadata": {},
   "source": [
    "# 시리즈, 데이터프레임의 데이터 섞어보기"
   ]
  },
  {
   "cell_type": "code",
   "execution_count": 15,
   "metadata": {},
   "outputs": [
    {
     "name": "stdout",
     "output_type": "stream",
     "text": [
      "0    61\n",
      "1    41\n",
      "2    66\n",
      "3    56\n",
      "4    37\n",
      "5    45\n",
      "6    77\n",
      "7    90\n",
      "Name: Age, dtype: int64\n"
     ]
    },
    {
     "name": "stderr",
     "output_type": "stream",
     "text": [
      "C:\\ProgramData\\Anaconda3\\lib\\random.py:362: SettingWithCopyWarning: \n",
      "A value is trying to be set on a copy of a slice from a DataFrame\n",
      "\n",
      "See the caveats in the documentation: https://pandas.pydata.org/pandas-docs/stable/user_guide/indexing.html#returning-a-view-versus-a-copy\n",
      "  x[i], x[j] = x[j], x[i]\n"
     ]
    }
   ],
   "source": [
    "import random\n",
    "\n",
    "random.seed(42)\n",
    "random.shuffle(scientists['Age'])\n",
    "print(scientists['Age'])"
   ]
  },
  {
   "cell_type": "markdown",
   "metadata": {},
   "source": [
    "# 데이터프레임의 열 삭제하기"
   ]
  },
  {
   "cell_type": "code",
   "execution_count": 18,
   "metadata": {},
   "outputs": [
    {
     "name": "stdout",
     "output_type": "stream",
     "text": [
      "                   Name        Born        Died          Occupation    born_dt\n",
      "0     Rosaline Franklin  1920-07-25  1958-04-16             Chemist 1920-07-25\n",
      "1        William Gosset  1876-06-13  1937-10-16        Statistician 1876-06-13\n",
      "2  Florence Nightingale  1820-05-12  1910-08-13               Nurse 1820-05-12\n",
      "3           Marie Curie  1867-11-07  1934-07-04             Chemist 1867-11-07\n",
      "4         Rachel Carson  1907-05-27  1964-04-14           Biologist 1907-05-27\n",
      "5             John Snow  1813-03-15  1858-06-16           Physician 1813-03-15\n",
      "6           Alan Turing  1912-06-23  1954-06-07  Computer Scientist 1912-06-23\n",
      "7          Johann Gauss  1777-04-30  1855-02-23       Mathematician 1777-04-30\n"
     ]
    }
   ],
   "source": [
    "print(scientists.drop(['Age'], axis=1))"
   ]
  },
  {
   "cell_type": "markdown",
   "metadata": {},
   "source": [
    "# 피클 형식으로 저장하기"
   ]
  },
  {
   "cell_type": "code",
   "execution_count": 24,
   "metadata": {},
   "outputs": [
    {
     "name": "stdout",
     "output_type": "stream",
     "text": [
      "0       Rosaline Franklin\n",
      "1          William Gosset\n",
      "2    Florence Nightingale\n",
      "3             Marie Curie\n",
      "4           Rachel Carson\n",
      "5               John Snow\n",
      "6             Alan Turing\n",
      "7            Johann Gauss\n",
      "Name: Name, dtype: object\n"
     ]
    }
   ],
   "source": [
    "names = scientists['Name'] \n",
    "names.to_pickle('../output/scientists_names_series.pickle') # 피클은 데이터를 바이너리 형태로 직렬화한 오브젝트를 저장하는 방법\n",
    "\n",
    "scientist_names_from_pickle = pd.read_pickle('../output/scientists_names_series.pickle')\n",
    "print(scientist_names_from_pickle)"
   ]
  },
  {
   "cell_type": "markdown",
   "metadata": {},
   "source": [
    "# CSV 불러오기"
   ]
  },
  {
   "cell_type": "code",
   "execution_count": 26,
   "metadata": {},
   "outputs": [],
   "source": [
    "# csv : 데이터를 쉼표로 구분하여 저장한 파일\n",
    "# tsv : 데이터를 탭으로 구분하여 저장한 파일\n",
    "\n",
    "names.to_csv('../output/scientist_names_series.csv')\n",
    "scientists.to_csv('../output/scientists_df.tsv', sep='\\t')"
   ]
  }
 ],
 "metadata": {
  "kernelspec": {
   "display_name": "Python 3 (ipykernel)",
   "language": "python",
   "name": "python3"
  },
  "language_info": {
   "codemirror_mode": {
    "name": "ipython",
    "version": 3
   },
   "file_extension": ".py",
   "mimetype": "text/x-python",
   "name": "python",
   "nbconvert_exporter": "python",
   "pygments_lexer": "ipython3",
   "version": "3.9.7"
  }
 },
 "nbformat": 4,
 "nbformat_minor": 2
}
